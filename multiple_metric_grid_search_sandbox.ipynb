{
 "cells": [
  {
   "cell_type": "code",
   "execution_count": 1,
   "metadata": {
    "collapsed": false
   },
   "outputs": [
    {
     "data": {
      "text/html": [
       "<div>\n",
       "<table border=\"1\" class=\"dataframe\">\n",
       "  <thead>\n",
       "    <tr style=\"text-align: right;\">\n",
       "      <th></th>\n",
       "      <th>estimator_default_scorer_mean</th>\n",
       "      <th>estimator_default_scorer_rank</th>\n",
       "      <th>estimator_default_scorer_split_0</th>\n",
       "      <th>estimator_default_scorer_split_1</th>\n",
       "      <th>estimator_default_scorer_split_2</th>\n",
       "      <th>param_degree</th>\n",
       "      <th>param_gamma</th>\n",
       "      <th>param_kernel</th>\n",
       "    </tr>\n",
       "  </thead>\n",
       "  <tbody>\n",
       "    <tr>\n",
       "      <th>0</th>\n",
       "      <td>0.009146</td>\n",
       "      <td>3</td>\n",
       "      <td>10.838766</td>\n",
       "      <td>10.239530</td>\n",
       "      <td>9.421737</td>\n",
       "      <td>NaN</td>\n",
       "      <td>0.1</td>\n",
       "      <td>rbf</td>\n",
       "    </tr>\n",
       "    <tr>\n",
       "      <th>1</th>\n",
       "      <td>0.014750</td>\n",
       "      <td>1</td>\n",
       "      <td>14.252333</td>\n",
       "      <td>17.418492</td>\n",
       "      <td>17.422706</td>\n",
       "      <td>NaN</td>\n",
       "      <td>0.01</td>\n",
       "      <td>rbf</td>\n",
       "    </tr>\n",
       "    <tr>\n",
       "      <th>2</th>\n",
       "      <td>-0.029732</td>\n",
       "      <td>4</td>\n",
       "      <td>-19.725028</td>\n",
       "      <td>-39.121994</td>\n",
       "      <td>-39.848191</td>\n",
       "      <td>2</td>\n",
       "      <td>NaN</td>\n",
       "      <td>poly</td>\n",
       "    </tr>\n",
       "    <tr>\n",
       "      <th>3</th>\n",
       "      <td>0.011945</td>\n",
       "      <td>2</td>\n",
       "      <td>11.244064</td>\n",
       "      <td>17.072080</td>\n",
       "      <td>11.433204</td>\n",
       "      <td>3</td>\n",
       "      <td>NaN</td>\n",
       "      <td>poly</td>\n",
       "    </tr>\n",
       "  </tbody>\n",
       "</table>\n",
       "</div>"
      ],
      "text/plain": [
       "   estimator_default_scorer_mean  estimator_default_scorer_rank  \\\n",
       "0                       0.009146                              3   \n",
       "1                       0.014750                              1   \n",
       "2                      -0.029732                              4   \n",
       "3                       0.011945                              2   \n",
       "\n",
       "   estimator_default_scorer_split_0  estimator_default_scorer_split_1  \\\n",
       "0                         10.838766                         10.239530   \n",
       "1                         14.252333                         17.418492   \n",
       "2                        -19.725028                        -39.121994   \n",
       "3                         11.244064                         17.072080   \n",
       "\n",
       "   estimator_default_scorer_split_2 param_degree param_gamma param_kernel  \n",
       "0                          9.421737          NaN         0.1          rbf  \n",
       "1                         17.422706          NaN        0.01          rbf  \n",
       "2                        -39.848191            2         NaN         poly  \n",
       "3                         11.433204            3         NaN         poly  "
      ]
     },
     "execution_count": 1,
     "metadata": {},
     "output_type": "execute_result"
    }
   ],
   "source": [
    "from sklearn.svm import SVR\n",
    "from sklearn.model_selection import GridSearchCV\n",
    "from sklearn.datasets import make_classification\n",
    "import pandas as pd\n",
    "\n",
    "gs = GridSearchCV(SVR(), param_grid=[{'kernel':['rbf'], 'gamma':[0.1, 0.01]}, {'kernel':['poly'], 'degree':[2, 3]}])\n",
    "\n",
    "X, y = make_classification()\n",
    "pd.DataFrame(gs.fit(X, y).search_results_)"
   ]
  },
  {
   "cell_type": "code",
   "execution_count": null,
   "metadata": {
    "collapsed": true
   },
   "outputs": [],
   "source": []
  }
 ],
 "metadata": {
  "kernelspec": {
   "display_name": "Python 2",
   "language": "python",
   "name": "python2"
  },
  "language_info": {
   "codemirror_mode": {
    "name": "ipython",
    "version": 2
   },
   "file_extension": ".py",
   "mimetype": "text/x-python",
   "name": "python",
   "nbconvert_exporter": "python",
   "pygments_lexer": "ipython2",
   "version": "2.7.11"
  }
 },
 "nbformat": 4,
 "nbformat_minor": 0
}
