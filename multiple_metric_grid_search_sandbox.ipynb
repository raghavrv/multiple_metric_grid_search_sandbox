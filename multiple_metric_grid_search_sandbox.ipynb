{
 "cells": [
  {
   "cell_type": "code",
   "execution_count": 1,
   "metadata": {
    "collapsed": false
   },
   "outputs": [
    {
     "data": {
      "text/html": [
       "<div>\n",
       "<table border=\"1\" class=\"dataframe\">\n",
       "  <thead>\n",
       "    <tr style=\"text-align: right;\">\n",
       "      <th></th>\n",
       "      <th>estimator_default_scorer_mean</th>\n",
       "      <th>estimator_default_scorer_rank</th>\n",
       "      <th>estimator_default_scorer_split_0</th>\n",
       "      <th>estimator_default_scorer_split_1</th>\n",
       "      <th>estimator_default_scorer_split_2</th>\n",
       "      <th>param_degree</th>\n",
       "      <th>param_gamma</th>\n",
       "      <th>param_kernel</th>\n",
       "    </tr>\n",
       "  </thead>\n",
       "  <tbody>\n",
       "    <tr>\n",
       "      <th>0</th>\n",
       "      <td>0.010924</td>\n",
       "      <td>3</td>\n",
       "      <td>11.795066</td>\n",
       "      <td>11.554720</td>\n",
       "      <td>13.045309</td>\n",
       "      <td>NaN</td>\n",
       "      <td>0.1</td>\n",
       "      <td>rbf</td>\n",
       "    </tr>\n",
       "    <tr>\n",
       "      <th>1</th>\n",
       "      <td>0.015569</td>\n",
       "      <td>1</td>\n",
       "      <td>17.524901</td>\n",
       "      <td>18.808049</td>\n",
       "      <td>15.560283</td>\n",
       "      <td>NaN</td>\n",
       "      <td>0.01</td>\n",
       "      <td>rbf</td>\n",
       "    </tr>\n",
       "    <tr>\n",
       "      <th>2</th>\n",
       "      <td>-0.018726</td>\n",
       "      <td>4</td>\n",
       "      <td>-31.408066</td>\n",
       "      <td>-18.669878</td>\n",
       "      <td>-12.642619</td>\n",
       "      <td>2</td>\n",
       "      <td>NaN</td>\n",
       "      <td>poly</td>\n",
       "    </tr>\n",
       "    <tr>\n",
       "      <th>3</th>\n",
       "      <td>0.012086</td>\n",
       "      <td>2</td>\n",
       "      <td>14.384616</td>\n",
       "      <td>12.770149</td>\n",
       "      <td>13.153228</td>\n",
       "      <td>3</td>\n",
       "      <td>NaN</td>\n",
       "      <td>poly</td>\n",
       "    </tr>\n",
       "  </tbody>\n",
       "</table>\n",
       "</div>"
      ],
      "text/plain": [
       "   estimator_default_scorer_mean  estimator_default_scorer_rank  \\\n",
       "0                       0.010924                              3   \n",
       "1                       0.015569                              1   \n",
       "2                      -0.018726                              4   \n",
       "3                       0.012086                              2   \n",
       "\n",
       "   estimator_default_scorer_split_0  estimator_default_scorer_split_1  \\\n",
       "0                         11.795066                         11.554720   \n",
       "1                         17.524901                         18.808049   \n",
       "2                        -31.408066                        -18.669878   \n",
       "3                         14.384616                         12.770149   \n",
       "\n",
       "   estimator_default_scorer_split_2 param_degree param_gamma param_kernel  \n",
       "0                         13.045309          NaN         0.1          rbf  \n",
       "1                         15.560283          NaN        0.01          rbf  \n",
       "2                        -12.642619            2         NaN         poly  \n",
       "3                         13.153228            3         NaN         poly  "
      ]
     },
     "execution_count": 1,
     "metadata": {},
     "output_type": "execute_result"
    }
   ],
   "source": [
    "from sklearn.svm import SVR\n",
    "from sklearn.model_selection import GridSearchCV\n",
    "from sklearn.datasets import make_classification\n",
    "import pandas as pd\n",
    "\n",
    "gs = GridSearchCV(SVR(), param_grid=[{'kernel':['rbf'], 'gamma':[0.1, 0.01]}, {'kernel':['poly'], 'degree':[2, 3]}])\n",
    "\n",
    "X, y = make_classification()\n",
    "pd.DataFrame(gs.fit(X, y).search_results_)"
   ]
  },
  {
   "cell_type": "code",
   "execution_count": 2,
   "metadata": {
    "collapsed": false
   },
   "outputs": [
    {
     "data": {
      "text/plain": [
       "{'candidate_id': 0,\n",
       " 'mean_scores': {'estimator_default_scorer': 0.010923691340324317},\n",
       " 'parameters': {'gamma': 0.1, 'kernel': 'rbf'},\n",
       " 'scores': {'estimator_default_scorer': [11.795065608252791,\n",
       "   11.554720095937169,\n",
       "   13.045309413240664]}}"
      ]
     },
     "execution_count": 2,
     "metadata": {},
     "output_type": "execute_result"
    }
   ],
   "source": [
    "gs.get_candidates(0)"
   ]
  },
  {
   "cell_type": "code",
   "execution_count": 3,
   "metadata": {
    "collapsed": false
   },
   "outputs": [
    {
     "data": {
      "text/plain": [
       "[{'candidate_id': 0,\n",
       "  'mean_scores': {'estimator_default_scorer': 0.010923691340324317},\n",
       "  'parameters': {'gamma': 0.1, 'kernel': 'rbf'},\n",
       "  'scores': {'estimator_default_scorer': [11.795065608252791,\n",
       "    11.554720095937169,\n",
       "    13.045309413240664]}},\n",
       " {'candidate_id': 3,\n",
       "  'mean_scores': {'estimator_default_scorer': 0.012086338136484824},\n",
       "  'parameters': {'degree': 3, 'kernel': 'poly'},\n",
       "  'scores': {'estimator_default_scorer': [14.384615650707573,\n",
       "    12.770148931090738,\n",
       "    13.153228199504774]}}]"
      ]
     },
     "execution_count": 3,
     "metadata": {},
     "output_type": "execute_result"
    }
   ],
   "source": [
    "gs.get_candidates([0, 3])"
   ]
  },
  {
   "cell_type": "code",
   "execution_count": 4,
   "metadata": {
    "collapsed": false
   },
   "outputs": [
    {
     "data": {
      "text/plain": [
       "[{'candidate_id': 0,\n",
       "  'mean_scores': {'estimator_default_scorer': 0.010923691340324317},\n",
       "  'parameters': {'gamma': 0.1, 'kernel': 'rbf'},\n",
       "  'scores': {'estimator_default_scorer': [11.795065608252791,\n",
       "    11.554720095937169,\n",
       "    13.045309413240664]}},\n",
       " {'candidate_id': 1,\n",
       "  'mean_scores': {'estimator_default_scorer': 0.01556902868520306},\n",
       "  'parameters': {'gamma': 0.01, 'kernel': 'rbf'},\n",
       "  'scores': {'estimator_default_scorer': [17.524900828964995,\n",
       "    18.808048886999551,\n",
       "    15.560283204880992]}},\n",
       " {'candidate_id': 2,\n",
       "  'mean_scores': {'estimator_default_scorer': -0.018726301683022924},\n",
       "  'parameters': {'degree': 2, 'kernel': 'poly'},\n",
       "  'scores': {'estimator_default_scorer': [-31.408065538452572,\n",
       "    -18.669877923854695,\n",
       "    -12.642618725152278]}},\n",
       " {'candidate_id': 3,\n",
       "  'mean_scores': {'estimator_default_scorer': 0.012086338136484824},\n",
       "  'parameters': {'degree': 3, 'kernel': 'poly'},\n",
       "  'scores': {'estimator_default_scorer': [14.384615650707573,\n",
       "    12.770148931090738,\n",
       "    13.153228199504774]}}]"
      ]
     },
     "execution_count": 4,
     "metadata": {},
     "output_type": "execute_result"
    }
   ],
   "source": [
    "gs.get_candidates()"
   ]
  },
  {
   "cell_type": "code",
   "execution_count": 5,
   "metadata": {
    "collapsed": false
   },
   "outputs": [
    {
     "name": "stderr",
     "output_type": "stream",
     "text": [
      "/home/rvraghav93/anaconda3/envs/python2/lib/python2.7/site-packages/sklearn/model_selection/_search.py:793: DeprecationWarning: The grid_scores_ attribute is deprecated in favor of the more elaborate search_results_ attribute. To get individual candidate statistics use the get_candidate method. The grid_scores_ attribute will not be available from 0.20\n",
      "  DeprecationWarning)\n"
     ]
    },
    {
     "data": {
      "text/plain": [
       "[mean: 0.01092, std: 0.65343, params: {'kernel': 'rbf', 'gamma': 0.1},\n",
       " mean: 0.01557, std: 1.33559, params: {'kernel': 'rbf', 'gamma': 0.01},\n",
       " mean: -0.01873, std: 7.82255, params: {'kernel': 'poly', 'degree': 2},\n",
       " mean: 0.01209, std: 0.68876, params: {'kernel': 'poly', 'degree': 3}]"
      ]
     },
     "execution_count": 5,
     "metadata": {},
     "output_type": "execute_result"
    }
   ],
   "source": [
    "gs.grid_scores_"
   ]
  },
  {
   "cell_type": "code",
   "execution_count": null,
   "metadata": {
    "collapsed": true
   },
   "outputs": [],
   "source": []
  }
 ],
 "metadata": {
  "kernelspec": {
   "display_name": "Python 2",
   "language": "python",
   "name": "python2"
  },
  "language_info": {
   "codemirror_mode": {
    "name": "ipython",
    "version": 2
   },
   "file_extension": ".py",
   "mimetype": "text/x-python",
   "name": "python",
   "nbconvert_exporter": "python",
   "pygments_lexer": "ipython2",
   "version": "2.7.11"
  }
 },
 "nbformat": 4,
 "nbformat_minor": 0
}
